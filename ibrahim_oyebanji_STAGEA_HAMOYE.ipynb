{
  "nbformat": 4,
  "nbformat_minor": 0,
  "metadata": {
    "colab": {
      "provenance": [],
      "toc_visible": true
    },
    "kernelspec": {
      "name": "python3",
      "display_name": "Python 3"
    },
    "language_info": {
      "name": "python"
    }
  },
  "cells": [
    {
      "cell_type": "code",
      "execution_count": null,
      "metadata": {
        "id": "IHfUyqsIzkVT"
      },
      "outputs": [],
      "source": []
    },
    {
      "cell_type": "markdown",
      "source": [
        "\n",
        "QUESTION 10 : READING THE CSV FILE\n"
      ],
      "metadata": {
        "id": "8tWYio1n0UGx"
      }
    },
    {
      "cell_type": "code",
      "source": [
        "# IMPORTING THE REQUIRED LIBRARY\n",
        "import pandas as pd\n",
        "#\n",
        "github_csv_url = '/FoodBalanceSheets_E_Africa_NOFLAG.csv'\n",
        "\n",
        "# Read the CSV file into a DataFrame\n",
        "df = pd.read_csv(github_csv_url, encoding=\"latin_1\")"
      ],
      "metadata": {
        "id": "gbqoM7ly0sl3"
      },
      "execution_count": null,
      "outputs": []
    },
    {
      "cell_type": "code",
      "source": [
        "#viewing the first few rows of the dataset\n",
        "display(df.head())"
      ],
      "metadata": {
        "colab": {
          "base_uri": "https://localhost:8080/",
          "height": 365
        },
        "id": "3Q97aiusV7y1",
        "outputId": "283cfcdc-57cc-4e5e-ed1b-4ab609aa8f6f"
      },
      "execution_count": null,
      "outputs": [
        {
          "output_type": "display_data",
          "data": {
            "text/plain": [
              "   Area Code     Area  Item Code         Item  Element Code  \\\n",
              "0          4  Algeria       2501   Population           511   \n",
              "1          4  Algeria       2501   Population          5301   \n",
              "2          4  Algeria       2901  Grand Total           664   \n",
              "3          4  Algeria       2901  Grand Total           674   \n",
              "4          4  Algeria       2901  Grand Total           684   \n",
              "\n",
              "                                  Element             Unit     Y2014  \\\n",
              "0           Total Population - Both sexes     1000 persons  38924.00   \n",
              "1                Domestic supply quantity      1000 tonnes      0.00   \n",
              "2           Food supply (kcal/capita/day)  kcal/capita/day   3377.00   \n",
              "3  Protein supply quantity (g/capita/day)     g/capita/day     94.90   \n",
              "4      Fat supply quantity (g/capita/day)     g/capita/day     80.06   \n",
              "\n",
              "      Y2015     Y2016     Y2017     Y2018  \n",
              "0  39728.00  40551.00  41389.00  42228.00  \n",
              "1      0.00      0.00      0.00      0.00  \n",
              "2   3379.00   3372.00   3341.00   3322.00  \n",
              "3     94.35     94.72     92.82     91.83  \n",
              "4     79.36     77.40     80.19     77.28  "
            ],
            "text/html": [
              "\n",
              "  <div id=\"df-51db0548-987a-42e2-94f5-d120994a7779\" class=\"colab-df-container\">\n",
              "    <div>\n",
              "<style scoped>\n",
              "    .dataframe tbody tr th:only-of-type {\n",
              "        vertical-align: middle;\n",
              "    }\n",
              "\n",
              "    .dataframe tbody tr th {\n",
              "        vertical-align: top;\n",
              "    }\n",
              "\n",
              "    .dataframe thead th {\n",
              "        text-align: right;\n",
              "    }\n",
              "</style>\n",
              "<table border=\"1\" class=\"dataframe\">\n",
              "  <thead>\n",
              "    <tr style=\"text-align: right;\">\n",
              "      <th></th>\n",
              "      <th>Area Code</th>\n",
              "      <th>Area</th>\n",
              "      <th>Item Code</th>\n",
              "      <th>Item</th>\n",
              "      <th>Element Code</th>\n",
              "      <th>Element</th>\n",
              "      <th>Unit</th>\n",
              "      <th>Y2014</th>\n",
              "      <th>Y2015</th>\n",
              "      <th>Y2016</th>\n",
              "      <th>Y2017</th>\n",
              "      <th>Y2018</th>\n",
              "    </tr>\n",
              "  </thead>\n",
              "  <tbody>\n",
              "    <tr>\n",
              "      <th>0</th>\n",
              "      <td>4</td>\n",
              "      <td>Algeria</td>\n",
              "      <td>2501</td>\n",
              "      <td>Population</td>\n",
              "      <td>511</td>\n",
              "      <td>Total Population - Both sexes</td>\n",
              "      <td>1000 persons</td>\n",
              "      <td>38924.00</td>\n",
              "      <td>39728.00</td>\n",
              "      <td>40551.00</td>\n",
              "      <td>41389.00</td>\n",
              "      <td>42228.00</td>\n",
              "    </tr>\n",
              "    <tr>\n",
              "      <th>1</th>\n",
              "      <td>4</td>\n",
              "      <td>Algeria</td>\n",
              "      <td>2501</td>\n",
              "      <td>Population</td>\n",
              "      <td>5301</td>\n",
              "      <td>Domestic supply quantity</td>\n",
              "      <td>1000 tonnes</td>\n",
              "      <td>0.00</td>\n",
              "      <td>0.00</td>\n",
              "      <td>0.00</td>\n",
              "      <td>0.00</td>\n",
              "      <td>0.00</td>\n",
              "    </tr>\n",
              "    <tr>\n",
              "      <th>2</th>\n",
              "      <td>4</td>\n",
              "      <td>Algeria</td>\n",
              "      <td>2901</td>\n",
              "      <td>Grand Total</td>\n",
              "      <td>664</td>\n",
              "      <td>Food supply (kcal/capita/day)</td>\n",
              "      <td>kcal/capita/day</td>\n",
              "      <td>3377.00</td>\n",
              "      <td>3379.00</td>\n",
              "      <td>3372.00</td>\n",
              "      <td>3341.00</td>\n",
              "      <td>3322.00</td>\n",
              "    </tr>\n",
              "    <tr>\n",
              "      <th>3</th>\n",
              "      <td>4</td>\n",
              "      <td>Algeria</td>\n",
              "      <td>2901</td>\n",
              "      <td>Grand Total</td>\n",
              "      <td>674</td>\n",
              "      <td>Protein supply quantity (g/capita/day)</td>\n",
              "      <td>g/capita/day</td>\n",
              "      <td>94.90</td>\n",
              "      <td>94.35</td>\n",
              "      <td>94.72</td>\n",
              "      <td>92.82</td>\n",
              "      <td>91.83</td>\n",
              "    </tr>\n",
              "    <tr>\n",
              "      <th>4</th>\n",
              "      <td>4</td>\n",
              "      <td>Algeria</td>\n",
              "      <td>2901</td>\n",
              "      <td>Grand Total</td>\n",
              "      <td>684</td>\n",
              "      <td>Fat supply quantity (g/capita/day)</td>\n",
              "      <td>g/capita/day</td>\n",
              "      <td>80.06</td>\n",
              "      <td>79.36</td>\n",
              "      <td>77.40</td>\n",
              "      <td>80.19</td>\n",
              "      <td>77.28</td>\n",
              "    </tr>\n",
              "  </tbody>\n",
              "</table>\n",
              "</div>\n",
              "    <div class=\"colab-df-buttons\">\n",
              "\n",
              "  <div class=\"colab-df-container\">\n",
              "    <button class=\"colab-df-convert\" onclick=\"convertToInteractive('df-51db0548-987a-42e2-94f5-d120994a7779')\"\n",
              "            title=\"Convert this dataframe to an interactive table.\"\n",
              "            style=\"display:none;\">\n",
              "\n",
              "  <svg xmlns=\"http://www.w3.org/2000/svg\" height=\"24px\" viewBox=\"0 -960 960 960\">\n",
              "    <path d=\"M120-120v-720h720v720H120Zm60-500h600v-160H180v160Zm220 220h160v-160H400v160Zm0 220h160v-160H400v160ZM180-400h160v-160H180v160Zm440 0h160v-160H620v160ZM180-180h160v-160H180v160Zm440 0h160v-160H620v160Z\"/>\n",
              "  </svg>\n",
              "    </button>\n",
              "\n",
              "  <style>\n",
              "    .colab-df-container {\n",
              "      display:flex;\n",
              "      gap: 12px;\n",
              "    }\n",
              "\n",
              "    .colab-df-convert {\n",
              "      background-color: #E8F0FE;\n",
              "      border: none;\n",
              "      border-radius: 50%;\n",
              "      cursor: pointer;\n",
              "      display: none;\n",
              "      fill: #1967D2;\n",
              "      height: 32px;\n",
              "      padding: 0 0 0 0;\n",
              "      width: 32px;\n",
              "    }\n",
              "\n",
              "    .colab-df-convert:hover {\n",
              "      background-color: #E2EBFA;\n",
              "      box-shadow: 0px 1px 2px rgba(60, 64, 67, 0.3), 0px 1px 3px 1px rgba(60, 64, 67, 0.15);\n",
              "      fill: #174EA6;\n",
              "    }\n",
              "\n",
              "    .colab-df-buttons div {\n",
              "      margin-bottom: 4px;\n",
              "    }\n",
              "\n",
              "    [theme=dark] .colab-df-convert {\n",
              "      background-color: #3B4455;\n",
              "      fill: #D2E3FC;\n",
              "    }\n",
              "\n",
              "    [theme=dark] .colab-df-convert:hover {\n",
              "      background-color: #434B5C;\n",
              "      box-shadow: 0px 1px 3px 1px rgba(0, 0, 0, 0.15);\n",
              "      filter: drop-shadow(0px 1px 2px rgba(0, 0, 0, 0.3));\n",
              "      fill: #FFFFFF;\n",
              "    }\n",
              "  </style>\n",
              "\n",
              "    <script>\n",
              "      const buttonEl =\n",
              "        document.querySelector('#df-51db0548-987a-42e2-94f5-d120994a7779 button.colab-df-convert');\n",
              "      buttonEl.style.display =\n",
              "        google.colab.kernel.accessAllowed ? 'block' : 'none';\n",
              "\n",
              "      async function convertToInteractive(key) {\n",
              "        const element = document.querySelector('#df-51db0548-987a-42e2-94f5-d120994a7779');\n",
              "        const dataTable =\n",
              "          await google.colab.kernel.invokeFunction('convertToInteractive',\n",
              "                                                    [key], {});\n",
              "        if (!dataTable) return;\n",
              "\n",
              "        const docLinkHtml = 'Like what you see? Visit the ' +\n",
              "          '<a target=\"_blank\" href=https://colab.research.google.com/notebooks/data_table.ipynb>data table notebook</a>'\n",
              "          + ' to learn more about interactive tables.';\n",
              "        element.innerHTML = '';\n",
              "        dataTable['output_type'] = 'display_data';\n",
              "        await google.colab.output.renderOutput(dataTable, element);\n",
              "        const docLink = document.createElement('div');\n",
              "        docLink.innerHTML = docLinkHtml;\n",
              "        element.appendChild(docLink);\n",
              "      }\n",
              "    </script>\n",
              "  </div>\n",
              "\n",
              "\n",
              "<div id=\"df-6df4d2f9-7c8a-4aec-a4ee-602253049591\">\n",
              "  <button class=\"colab-df-quickchart\" onclick=\"quickchart('df-6df4d2f9-7c8a-4aec-a4ee-602253049591')\"\n",
              "            title=\"Suggest charts.\"\n",
              "            style=\"display:none;\">\n",
              "\n",
              "<svg xmlns=\"http://www.w3.org/2000/svg\" height=\"24px\"viewBox=\"0 0 24 24\"\n",
              "     width=\"24px\">\n",
              "    <g>\n",
              "        <path d=\"M19 3H5c-1.1 0-2 .9-2 2v14c0 1.1.9 2 2 2h14c1.1 0 2-.9 2-2V5c0-1.1-.9-2-2-2zM9 17H7v-7h2v7zm4 0h-2V7h2v10zm4 0h-2v-4h2v4z\"/>\n",
              "    </g>\n",
              "</svg>\n",
              "  </button>\n",
              "\n",
              "<style>\n",
              "  .colab-df-quickchart {\n",
              "      --bg-color: #E8F0FE;\n",
              "      --fill-color: #1967D2;\n",
              "      --hover-bg-color: #E2EBFA;\n",
              "      --hover-fill-color: #174EA6;\n",
              "      --disabled-fill-color: #AAA;\n",
              "      --disabled-bg-color: #DDD;\n",
              "  }\n",
              "\n",
              "  [theme=dark] .colab-df-quickchart {\n",
              "      --bg-color: #3B4455;\n",
              "      --fill-color: #D2E3FC;\n",
              "      --hover-bg-color: #434B5C;\n",
              "      --hover-fill-color: #FFFFFF;\n",
              "      --disabled-bg-color: #3B4455;\n",
              "      --disabled-fill-color: #666;\n",
              "  }\n",
              "\n",
              "  .colab-df-quickchart {\n",
              "    background-color: var(--bg-color);\n",
              "    border: none;\n",
              "    border-radius: 50%;\n",
              "    cursor: pointer;\n",
              "    display: none;\n",
              "    fill: var(--fill-color);\n",
              "    height: 32px;\n",
              "    padding: 0;\n",
              "    width: 32px;\n",
              "  }\n",
              "\n",
              "  .colab-df-quickchart:hover {\n",
              "    background-color: var(--hover-bg-color);\n",
              "    box-shadow: 0 1px 2px rgba(60, 64, 67, 0.3), 0 1px 3px 1px rgba(60, 64, 67, 0.15);\n",
              "    fill: var(--button-hover-fill-color);\n",
              "  }\n",
              "\n",
              "  .colab-df-quickchart-complete:disabled,\n",
              "  .colab-df-quickchart-complete:disabled:hover {\n",
              "    background-color: var(--disabled-bg-color);\n",
              "    fill: var(--disabled-fill-color);\n",
              "    box-shadow: none;\n",
              "  }\n",
              "\n",
              "  .colab-df-spinner {\n",
              "    border: 2px solid var(--fill-color);\n",
              "    border-color: transparent;\n",
              "    border-bottom-color: var(--fill-color);\n",
              "    animation:\n",
              "      spin 1s steps(1) infinite;\n",
              "  }\n",
              "\n",
              "  @keyframes spin {\n",
              "    0% {\n",
              "      border-color: transparent;\n",
              "      border-bottom-color: var(--fill-color);\n",
              "      border-left-color: var(--fill-color);\n",
              "    }\n",
              "    20% {\n",
              "      border-color: transparent;\n",
              "      border-left-color: var(--fill-color);\n",
              "      border-top-color: var(--fill-color);\n",
              "    }\n",
              "    30% {\n",
              "      border-color: transparent;\n",
              "      border-left-color: var(--fill-color);\n",
              "      border-top-color: var(--fill-color);\n",
              "      border-right-color: var(--fill-color);\n",
              "    }\n",
              "    40% {\n",
              "      border-color: transparent;\n",
              "      border-right-color: var(--fill-color);\n",
              "      border-top-color: var(--fill-color);\n",
              "    }\n",
              "    60% {\n",
              "      border-color: transparent;\n",
              "      border-right-color: var(--fill-color);\n",
              "    }\n",
              "    80% {\n",
              "      border-color: transparent;\n",
              "      border-right-color: var(--fill-color);\n",
              "      border-bottom-color: var(--fill-color);\n",
              "    }\n",
              "    90% {\n",
              "      border-color: transparent;\n",
              "      border-bottom-color: var(--fill-color);\n",
              "    }\n",
              "  }\n",
              "</style>\n",
              "\n",
              "  <script>\n",
              "    async function quickchart(key) {\n",
              "      const quickchartButtonEl =\n",
              "        document.querySelector('#' + key + ' button');\n",
              "      quickchartButtonEl.disabled = true;  // To prevent multiple clicks.\n",
              "      quickchartButtonEl.classList.add('colab-df-spinner');\n",
              "      try {\n",
              "        const charts = await google.colab.kernel.invokeFunction(\n",
              "            'suggestCharts', [key], {});\n",
              "      } catch (error) {\n",
              "        console.error('Error during call to suggestCharts:', error);\n",
              "      }\n",
              "      quickchartButtonEl.classList.remove('colab-df-spinner');\n",
              "      quickchartButtonEl.classList.add('colab-df-quickchart-complete');\n",
              "    }\n",
              "    (() => {\n",
              "      let quickchartButtonEl =\n",
              "        document.querySelector('#df-6df4d2f9-7c8a-4aec-a4ee-602253049591 button');\n",
              "      quickchartButtonEl.style.display =\n",
              "        google.colab.kernel.accessAllowed ? 'block' : 'none';\n",
              "    })();\n",
              "  </script>\n",
              "</div>\n",
              "    </div>\n",
              "  </div>\n"
            ]
          },
          "metadata": {}
        }
      ]
    },
    {
      "cell_type": "markdown",
      "source": [
        "# QUESTION 3 SOLUTION\n",
        "#Select columns ‘Y2017’ and ‘Area’, Perform a groupby operation on ‘Area’.  Which of these Areas had the highest sum in 2017?"
      ],
      "metadata": {
        "id": "SSJTOohUS3ls"
      }
    },
    {
      "cell_type": "code",
      "source": [
        "#IMPORTING THE REQUIRED LIBRARY\n",
        "import pandas as pd\n",
        "\n",
        "github_csv_url = '/FoodBalanceSheets_E_Africa_NOFLAG.csv'\n",
        "\n",
        "# Read the CSV file into a DataFrame\n",
        "df = pd.read_csv(github_csv_url, encoding=\"latin_1\")\n",
        "# Selecting  the 'Y2017' and 'Area' columns\n",
        "selected_columns = df[['Y2017', 'Area']]\n",
        "\n",
        "# Grouping  by 'Area' and calculating  the sum for 'Y2017' within each group\n",
        "sum_2017_by_area = selected_columns.groupby('Area')['Y2017'].sum()\n",
        "\n",
        "# determining the area with the highest sum in 2017\n",
        "area_with_highest_sum_2017 = sum_2017_by_area.idxmax()\n",
        "\n",
        "# The 'area_with_highest_sum_2017' variable now contains the area with the highest sum in 2017\n",
        "print(area_with_highest_sum_2017)"
      ],
      "metadata": {
        "colab": {
          "base_uri": "https://localhost:8080/"
        },
        "id": "_ocQEAGIZBce",
        "outputId": "9cf876d4-345e-48e9-95ff-280580c7a5dd"
      },
      "execution_count": null,
      "outputs": [
        {
          "output_type": "stream",
          "name": "stdout",
          "text": [
            "Nigeria\n"
          ]
        }
      ]
    },
    {
      "cell_type": "code",
      "source": [
        "\n",
        "\n",
        "\n",
        "# Q2. Which year had the least correlation with ‘Element Code’?\n",
        "\n",
        "\n",
        "\n",
        "# STEP 1: Selecting  the relevant columns: 'Element Code' and the years\n",
        "selected_columns = df[['Element Code', 'Y2014', 'Y2015', 'Y2016', 'Y2017', 'Y2018']]\n",
        "\n",
        "# STEP 2: Calculating the correlation coefficients between 'Element Code' and the years\n",
        "correlations = selected_columns.corr()['Element Code']\n",
        "\n",
        "# determining the year with the least correlation (lowest absolute correlation)\n",
        "least_correlated_year = correlations.iloc[1:].idxmin()\n",
        "\n",
        "# finding  the actual correlation value for the least correlated year\n",
        "least_correlation_value = correlations[least_correlated_year]\n",
        "\n",
        "# Print the result\n",
        "print(f\"The year with the least correlation to 'Element Code' is {least_correlated_year} with a correlation of {least_correlation_value:.2f}\")\n",
        "\n",
        "\n",
        "\n",
        "\n",
        "\n",
        "\n"
      ],
      "metadata": {
        "colab": {
          "base_uri": "https://localhost:8080/"
        },
        "id": "KGlahamiZd74",
        "outputId": "a6c89e74-5fc4-48ae-f25b-fd8f2966e61e"
      },
      "execution_count": null,
      "outputs": [
        {
          "output_type": "stream",
          "name": "stdout",
          "text": [
            "The year with the least correlation to 'Element Code' is Y2016 with a correlation of 0.02\n"
          ]
        }
      ]
    },
    {
      "cell_type": "markdown",
      "source": [
        "# QUESTION 5:\n",
        "If you have the following list\n",
        "\n",
        "lst = [[35, 'Portugal', 94], [33, 'Argentina', 93], [30 , 'Brazil', 92]]\n",
        "\n",
        "col = [‘Age’,’Nationality’,’Overall’]\n",
        "\n",
        "How do you create a pandas DataFrame using this list, to look like the table below?\n",
        "\n",
        "![image.png](data:image/png;base64,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)\n",
        "\n"
      ],
      "metadata": {
        "id": "swmpwwkSS5Sc"
      }
    },
    {
      "cell_type": "code",
      "source": [
        "import pandas as pd\n",
        "\n",
        "lst = [[35, 'Portugal', 94], [33, 'Argentina', 93], [30, 'Brazil', 92]]\n",
        "col = ['Age', 'Nationality', 'Overall']\n",
        "\n",
        "# STEP 1: Creating the DataFrame with custom index values\n",
        "df1 = pd.DataFrame(lst, columns=col, index=[1, 2, 3])\n",
        "\n",
        "# Display the DataFrame\n",
        "display(df1)\n"
      ],
      "metadata": {
        "colab": {
          "base_uri": "https://localhost:8080/",
          "height": 143
        },
        "id": "4bkJu-9sdsQd",
        "outputId": "f9aaec13-ab98-4e98-e12d-249988f5e495"
      },
      "execution_count": null,
      "outputs": [
        {
          "output_type": "display_data",
          "data": {
            "text/plain": [
              "   Age Nationality  Overall\n",
              "1   35    Portugal       94\n",
              "2   33   Argentina       93\n",
              "3   30      Brazil       92"
            ],
            "text/html": [
              "\n",
              "  <div id=\"df-d7a982f1-db94-401b-a8d2-e85bb0e52d6d\" class=\"colab-df-container\">\n",
              "    <div>\n",
              "<style scoped>\n",
              "    .dataframe tbody tr th:only-of-type {\n",
              "        vertical-align: middle;\n",
              "    }\n",
              "\n",
              "    .dataframe tbody tr th {\n",
              "        vertical-align: top;\n",
              "    }\n",
              "\n",
              "    .dataframe thead th {\n",
              "        text-align: right;\n",
              "    }\n",
              "</style>\n",
              "<table border=\"1\" class=\"dataframe\">\n",
              "  <thead>\n",
              "    <tr style=\"text-align: right;\">\n",
              "      <th></th>\n",
              "      <th>Age</th>\n",
              "      <th>Nationality</th>\n",
              "      <th>Overall</th>\n",
              "    </tr>\n",
              "  </thead>\n",
              "  <tbody>\n",
              "    <tr>\n",
              "      <th>1</th>\n",
              "      <td>35</td>\n",
              "      <td>Portugal</td>\n",
              "      <td>94</td>\n",
              "    </tr>\n",
              "    <tr>\n",
              "      <th>2</th>\n",
              "      <td>33</td>\n",
              "      <td>Argentina</td>\n",
              "      <td>93</td>\n",
              "    </tr>\n",
              "    <tr>\n",
              "      <th>3</th>\n",
              "      <td>30</td>\n",
              "      <td>Brazil</td>\n",
              "      <td>92</td>\n",
              "    </tr>\n",
              "  </tbody>\n",
              "</table>\n",
              "</div>\n",
              "    <div class=\"colab-df-buttons\">\n",
              "\n",
              "  <div class=\"colab-df-container\">\n",
              "    <button class=\"colab-df-convert\" onclick=\"convertToInteractive('df-d7a982f1-db94-401b-a8d2-e85bb0e52d6d')\"\n",
              "            title=\"Convert this dataframe to an interactive table.\"\n",
              "            style=\"display:none;\">\n",
              "\n",
              "  <svg xmlns=\"http://www.w3.org/2000/svg\" height=\"24px\" viewBox=\"0 -960 960 960\">\n",
              "    <path d=\"M120-120v-720h720v720H120Zm60-500h600v-160H180v160Zm220 220h160v-160H400v160Zm0 220h160v-160H400v160ZM180-400h160v-160H180v160Zm440 0h160v-160H620v160ZM180-180h160v-160H180v160Zm440 0h160v-160H620v160Z\"/>\n",
              "  </svg>\n",
              "    </button>\n",
              "\n",
              "  <style>\n",
              "    .colab-df-container {\n",
              "      display:flex;\n",
              "      gap: 12px;\n",
              "    }\n",
              "\n",
              "    .colab-df-convert {\n",
              "      background-color: #E8F0FE;\n",
              "      border: none;\n",
              "      border-radius: 50%;\n",
              "      cursor: pointer;\n",
              "      display: none;\n",
              "      fill: #1967D2;\n",
              "      height: 32px;\n",
              "      padding: 0 0 0 0;\n",
              "      width: 32px;\n",
              "    }\n",
              "\n",
              "    .colab-df-convert:hover {\n",
              "      background-color: #E2EBFA;\n",
              "      box-shadow: 0px 1px 2px rgba(60, 64, 67, 0.3), 0px 1px 3px 1px rgba(60, 64, 67, 0.15);\n",
              "      fill: #174EA6;\n",
              "    }\n",
              "\n",
              "    .colab-df-buttons div {\n",
              "      margin-bottom: 4px;\n",
              "    }\n",
              "\n",
              "    [theme=dark] .colab-df-convert {\n",
              "      background-color: #3B4455;\n",
              "      fill: #D2E3FC;\n",
              "    }\n",
              "\n",
              "    [theme=dark] .colab-df-convert:hover {\n",
              "      background-color: #434B5C;\n",
              "      box-shadow: 0px 1px 3px 1px rgba(0, 0, 0, 0.15);\n",
              "      filter: drop-shadow(0px 1px 2px rgba(0, 0, 0, 0.3));\n",
              "      fill: #FFFFFF;\n",
              "    }\n",
              "  </style>\n",
              "\n",
              "    <script>\n",
              "      const buttonEl =\n",
              "        document.querySelector('#df-d7a982f1-db94-401b-a8d2-e85bb0e52d6d button.colab-df-convert');\n",
              "      buttonEl.style.display =\n",
              "        google.colab.kernel.accessAllowed ? 'block' : 'none';\n",
              "\n",
              "      async function convertToInteractive(key) {\n",
              "        const element = document.querySelector('#df-d7a982f1-db94-401b-a8d2-e85bb0e52d6d');\n",
              "        const dataTable =\n",
              "          await google.colab.kernel.invokeFunction('convertToInteractive',\n",
              "                                                    [key], {});\n",
              "        if (!dataTable) return;\n",
              "\n",
              "        const docLinkHtml = 'Like what you see? Visit the ' +\n",
              "          '<a target=\"_blank\" href=https://colab.research.google.com/notebooks/data_table.ipynb>data table notebook</a>'\n",
              "          + ' to learn more about interactive tables.';\n",
              "        element.innerHTML = '';\n",
              "        dataTable['output_type'] = 'display_data';\n",
              "        await google.colab.output.renderOutput(dataTable, element);\n",
              "        const docLink = document.createElement('div');\n",
              "        docLink.innerHTML = docLinkHtml;\n",
              "        element.appendChild(docLink);\n",
              "      }\n",
              "    </script>\n",
              "  </div>\n",
              "\n",
              "\n",
              "<div id=\"df-2229619a-f3e0-4663-8f98-e6bb0a943a69\">\n",
              "  <button class=\"colab-df-quickchart\" onclick=\"quickchart('df-2229619a-f3e0-4663-8f98-e6bb0a943a69')\"\n",
              "            title=\"Suggest charts.\"\n",
              "            style=\"display:none;\">\n",
              "\n",
              "<svg xmlns=\"http://www.w3.org/2000/svg\" height=\"24px\"viewBox=\"0 0 24 24\"\n",
              "     width=\"24px\">\n",
              "    <g>\n",
              "        <path d=\"M19 3H5c-1.1 0-2 .9-2 2v14c0 1.1.9 2 2 2h14c1.1 0 2-.9 2-2V5c0-1.1-.9-2-2-2zM9 17H7v-7h2v7zm4 0h-2V7h2v10zm4 0h-2v-4h2v4z\"/>\n",
              "    </g>\n",
              "</svg>\n",
              "  </button>\n",
              "\n",
              "<style>\n",
              "  .colab-df-quickchart {\n",
              "      --bg-color: #E8F0FE;\n",
              "      --fill-color: #1967D2;\n",
              "      --hover-bg-color: #E2EBFA;\n",
              "      --hover-fill-color: #174EA6;\n",
              "      --disabled-fill-color: #AAA;\n",
              "      --disabled-bg-color: #DDD;\n",
              "  }\n",
              "\n",
              "  [theme=dark] .colab-df-quickchart {\n",
              "      --bg-color: #3B4455;\n",
              "      --fill-color: #D2E3FC;\n",
              "      --hover-bg-color: #434B5C;\n",
              "      --hover-fill-color: #FFFFFF;\n",
              "      --disabled-bg-color: #3B4455;\n",
              "      --disabled-fill-color: #666;\n",
              "  }\n",
              "\n",
              "  .colab-df-quickchart {\n",
              "    background-color: var(--bg-color);\n",
              "    border: none;\n",
              "    border-radius: 50%;\n",
              "    cursor: pointer;\n",
              "    display: none;\n",
              "    fill: var(--fill-color);\n",
              "    height: 32px;\n",
              "    padding: 0;\n",
              "    width: 32px;\n",
              "  }\n",
              "\n",
              "  .colab-df-quickchart:hover {\n",
              "    background-color: var(--hover-bg-color);\n",
              "    box-shadow: 0 1px 2px rgba(60, 64, 67, 0.3), 0 1px 3px 1px rgba(60, 64, 67, 0.15);\n",
              "    fill: var(--button-hover-fill-color);\n",
              "  }\n",
              "\n",
              "  .colab-df-quickchart-complete:disabled,\n",
              "  .colab-df-quickchart-complete:disabled:hover {\n",
              "    background-color: var(--disabled-bg-color);\n",
              "    fill: var(--disabled-fill-color);\n",
              "    box-shadow: none;\n",
              "  }\n",
              "\n",
              "  .colab-df-spinner {\n",
              "    border: 2px solid var(--fill-color);\n",
              "    border-color: transparent;\n",
              "    border-bottom-color: var(--fill-color);\n",
              "    animation:\n",
              "      spin 1s steps(1) infinite;\n",
              "  }\n",
              "\n",
              "  @keyframes spin {\n",
              "    0% {\n",
              "      border-color: transparent;\n",
              "      border-bottom-color: var(--fill-color);\n",
              "      border-left-color: var(--fill-color);\n",
              "    }\n",
              "    20% {\n",
              "      border-color: transparent;\n",
              "      border-left-color: var(--fill-color);\n",
              "      border-top-color: var(--fill-color);\n",
              "    }\n",
              "    30% {\n",
              "      border-color: transparent;\n",
              "      border-left-color: var(--fill-color);\n",
              "      border-top-color: var(--fill-color);\n",
              "      border-right-color: var(--fill-color);\n",
              "    }\n",
              "    40% {\n",
              "      border-color: transparent;\n",
              "      border-right-color: var(--fill-color);\n",
              "      border-top-color: var(--fill-color);\n",
              "    }\n",
              "    60% {\n",
              "      border-color: transparent;\n",
              "      border-right-color: var(--fill-color);\n",
              "    }\n",
              "    80% {\n",
              "      border-color: transparent;\n",
              "      border-right-color: var(--fill-color);\n",
              "      border-bottom-color: var(--fill-color);\n",
              "    }\n",
              "    90% {\n",
              "      border-color: transparent;\n",
              "      border-bottom-color: var(--fill-color);\n",
              "    }\n",
              "  }\n",
              "</style>\n",
              "\n",
              "  <script>\n",
              "    async function quickchart(key) {\n",
              "      const quickchartButtonEl =\n",
              "        document.querySelector('#' + key + ' button');\n",
              "      quickchartButtonEl.disabled = true;  // To prevent multiple clicks.\n",
              "      quickchartButtonEl.classList.add('colab-df-spinner');\n",
              "      try {\n",
              "        const charts = await google.colab.kernel.invokeFunction(\n",
              "            'suggestCharts', [key], {});\n",
              "      } catch (error) {\n",
              "        console.error('Error during call to suggestCharts:', error);\n",
              "      }\n",
              "      quickchartButtonEl.classList.remove('colab-df-spinner');\n",
              "      quickchartButtonEl.classList.add('colab-df-quickchart-complete');\n",
              "    }\n",
              "    (() => {\n",
              "      let quickchartButtonEl =\n",
              "        document.querySelector('#df-2229619a-f3e0-4663-8f98-e6bb0a943a69 button');\n",
              "      quickchartButtonEl.style.display =\n",
              "        google.colab.kernel.accessAllowed ? 'block' : 'none';\n",
              "    })();\n",
              "  </script>\n",
              "</div>\n",
              "    </div>\n",
              "  </div>\n"
            ]
          },
          "metadata": {}
        }
      ]
    },
    {
      "cell_type": "code",
      "source": [
        "df.columns"
      ],
      "metadata": {
        "colab": {
          "base_uri": "https://localhost:8080/"
        },
        "id": "6nL6O0M4fvsJ",
        "outputId": "cce81a48-b404-40ec-b478-bcec8834b93e"
      },
      "execution_count": null,
      "outputs": [
        {
          "output_type": "execute_result",
          "data": {
            "text/plain": [
              "Index(['Age', 'Nationality', 'Overall'], dtype='object')"
            ]
          },
          "metadata": {},
          "execution_count": 19
        }
      ]
    },
    {
      "cell_type": "markdown",
      "source": [
        "# New Section"
      ],
      "metadata": {
        "id": "lR4S7hqNfwm-"
      }
    },
    {
      "cell_type": "code",
      "source": [
        "# Filtering  the DataFrame for Madagascar\n",
        "madagascar_data = df[df['Area'] =='Madagascar']\n",
        "\n",
        "# Select the 'Y2015' column and calculate the sum\n",
        "total_protein_supply_2015 = madagascar_data['Y2015'].sum()\n",
        "\n",
        "# Print the total protein supply quantity in Madagascar in 2015\n",
        "print(f'Total Protein Supply Quantity in Madagascar in 2015: {total_protein_supply_2015}')"
      ],
      "metadata": {
        "colab": {
          "base_uri": "https://localhost:8080/"
        },
        "id": "aCSgu1sGgUaN",
        "outputId": "c8a73b1d-92e5-440c-9e56-7df8b5025cf4"
      },
      "execution_count": null,
      "outputs": [
        {
          "output_type": "stream",
          "name": "stdout",
          "text": [
            "Total Protein Supply Quantity in Madagascar in 2015: 126674.9\n"
          ]
        }
      ]
    },
    {
      "cell_type": "code",
      "source": [],
      "metadata": {
        "id": "OevsdR9QypYW"
      },
      "execution_count": null,
      "outputs": []
    },
    {
      "cell_type": "markdown",
      "source": [
        "# QUESTION 8\n",
        "What is the total sum of Wine produced in 2015 and 2018 respectively?\n",
        "\n",
        "\n"
      ],
      "metadata": {
        "id": "gSzPXWVUEu99"
      }
    },
    {
      "cell_type": "code",
      "source": [
        "import pandas as pd\n",
        "\n",
        "github_csv_url = '/content/FoodBalanceSheets_E_Africa_NOFLAG.csv'\n",
        "\n",
        "# Loading the CSV file into a DataFrame\n",
        "df = pd.read_csv(github_csv_url, encoding=\"latin_1\")\n",
        "\n",
        "#  We Select the 'Y2015' and 'Y2018' columns and calculate the sum for each year\n",
        "wine_produced_2015 = df['Y2015'][df['Item'] == 'Wine'].sum()\n",
        "wine_produced_2018 = df['Y2018'][df['Item'] == 'Wine'].sum()\n",
        "\n",
        "# Print the total sum of Wine produced in 2015 and 2018\n",
        "print(f'Total Wine produced in 2015: {wine_produced_2015}')\n",
        "print(f'Total Wine produced in 2018: {wine_produced_2018}')"
      ],
      "metadata": {
        "colab": {
          "base_uri": "https://localhost:8080/"
        },
        "id": "P3IfDNkSG-kp",
        "outputId": "3fe47895-0170-4586-8738-913bd5952cab"
      },
      "execution_count": 7,
      "outputs": [
        {
          "output_type": "stream",
          "name": "stdout",
          "text": [
            "Total Wine produced in 2015: 4251.8099999999995\n",
            "Total Wine produced in 2018: 4039.3199999999997\n"
          ]
        }
      ]
    },
    {
      "cell_type": "code",
      "source": [],
      "metadata": {
        "id": "yXm6fHu7HqSN"
      },
      "execution_count": null,
      "outputs": []
    },
    {
      "cell_type": "markdown",
      "source": [
        "# QUESTION 9\n",
        "\n",
        "Select columns ‘Y2017’ and ‘Area’, Perform a groupby operation on ‘Area’.  Which of these Areas had the 7th lowest sum in 2017?"
      ],
      "metadata": {
        "id": "dMNG5oqZHshn"
      }
    },
    {
      "cell_type": "code",
      "source": [
        "import pandas as pd\n",
        "\n",
        "\n",
        "# Select the 'Y2017' and 'Area' columns\n",
        "selected_columns = df[['Y2017', 'Area']]\n",
        "\n",
        "# Group by 'Area' and calculate the sum for 'Y2017' within each group\n",
        "sum_2017_by_area = selected_columns.groupby('Area')['Y2017'].sum()\n",
        "\n",
        "# Sort the results in ascending order of the sum for 'Y2017'\n",
        "sorted_sum_2017 = sum_2017_by_area.sort_values()\n",
        "\n",
        "# Find the area with the 7th lowest sum in 2017\n",
        "seventh_lowest_area = sorted_sum_2017.index[6]  # Index 6 corresponds to the 7th lowest area\n",
        "\n",
        "# Get the sum for the 7th lowest area\n",
        "seventh_lowest_sum = sorted_sum_2017.iloc[6]\n",
        "\n",
        "# Print the result\n",
        "print(f\"The area with the 7th lowest sum in 2017 is '{seventh_lowest_area}' with a sum of {seventh_lowest_sum}\")\n"
      ],
      "metadata": {
        "colab": {
          "base_uri": "https://localhost:8080/"
        },
        "id": "WTuSnZQZH8zV",
        "outputId": "fc123c54-2786-4111-fe22-ff8510d7f879"
      },
      "execution_count": 9,
      "outputs": [
        {
          "output_type": "stream",
          "name": "stdout",
          "text": [
            "The area with the 7th lowest sum in 2017 is 'Guinea-Bissau' with a sum of 19102.77\n"
          ]
        }
      ]
    },
    {
      "cell_type": "code",
      "source": [],
      "metadata": {
        "id": "b17Ba8ikJDMM"
      },
      "execution_count": null,
      "outputs": []
    },
    {
      "cell_type": "markdown",
      "source": [
        "# QUESTION 11\n",
        "\n",
        "What is the mean and standard deviation across the whole dataset for the year 2017 to 2 decimal places?"
      ],
      "metadata": {
        "id": "qNKcmCb2JEZO"
      }
    },
    {
      "cell_type": "code",
      "source": [
        "import pandas as pd\n",
        "\n",
        "\n",
        "# Select the 'Y2017' column\n",
        "y2017_values = df['Y2017']\n",
        "\n",
        "# Calculate the mean and standard deviation for 'Y2017'\n",
        "mean_2017 = y2017_values.mean()\n",
        "std_deviation_2017 = y2017_values.std()\n",
        "\n",
        "# Round the results to 2 decimal places\n",
        "mean_2017_rounded = round(mean_2017, 2)\n",
        "std_deviation_2017_rounded = round(std_deviation_2017, 2)\n",
        "\n",
        "# Print the mean and standard deviation for 2017\n",
        "print(f\"Mean for Y2017: {mean_2017_rounded}\")\n",
        "print(f\"Standard Deviation for Y2017: {std_deviation_2017_rounded}\")\n"
      ],
      "metadata": {
        "colab": {
          "base_uri": "https://localhost:8080/"
        },
        "id": "I63xvCddJLmp",
        "outputId": "d2079a60-2ebb-4dce-8293-ad83281fcc80"
      },
      "execution_count": 11,
      "outputs": [
        {
          "output_type": "stream",
          "name": "stdout",
          "text": [
            "Mean for Y2017: 140.92\n",
            "Standard Deviation for Y2017: 1671.86\n"
          ]
        }
      ]
    },
    {
      "cell_type": "code",
      "source": [],
      "metadata": {
        "id": "07ULYsxhKH7N"
      },
      "execution_count": null,
      "outputs": []
    },
    {
      "cell_type": "markdown",
      "source": [
        "# QUESTION 14\n",
        "\n",
        "Consider the following list of tuples:\n",
        "\n",
        "y = [(2, 4), (7, 8), (1, 5, 9)]\n",
        "\n",
        "How would you assign element 8 from the list to a variable x?"
      ],
      "metadata": {
        "id": "ngnU4_R9KI_W"
      }
    },
    {
      "cell_type": "code",
      "source": [
        "y = [(2, 4), (7, 8), (1, 5, 9)]\n",
        "# SOLUTION ASSIGNING THE X VARIABLE\n",
        "x = y[1][1]\n",
        "#CONFIRMING WHAT HAS BEEN ASSIGNED\n",
        "print(x)"
      ],
      "metadata": {
        "colab": {
          "base_uri": "https://localhost:8080/"
        },
        "id": "A2xkbbaiKPSM",
        "outputId": "d83bfb59-898d-4400-a54d-0f8e5eef1dcb"
      },
      "execution_count": 14,
      "outputs": [
        {
          "output_type": "stream",
          "name": "stdout",
          "text": [
            "8\n"
          ]
        }
      ]
    },
    {
      "cell_type": "code",
      "source": [],
      "metadata": {
        "id": "Zbk-kqqNK4ui"
      },
      "execution_count": null,
      "outputs": []
    },
    {
      "cell_type": "markdown",
      "source": [
        "# QUESTION 20\n",
        "\n",
        "What is the total number of unique countries in the dataset?"
      ],
      "metadata": {
        "id": "PkhhKJz9Ldh-"
      }
    },
    {
      "cell_type": "code",
      "source": [
        "import pandas as pd\n",
        "\n",
        "# Assuming 'df' is your DataFrame\n",
        "\n",
        "# Extract unique values from the 'Area' column and count them\n",
        "unique_countries = df['Area'].nunique()\n",
        "\n",
        "# Print the total number of unique countries\n",
        "print(f\"Total number of unique countries: {unique_countries}\")\n"
      ],
      "metadata": {
        "colab": {
          "base_uri": "https://localhost:8080/"
        },
        "id": "YUfCsTTSLq3p",
        "outputId": "4f9332d9-0343-48d7-edf1-ae7ad80b57b7"
      },
      "execution_count": 16,
      "outputs": [
        {
          "output_type": "stream",
          "name": "stdout",
          "text": [
            "Total number of unique countries: 49\n"
          ]
        }
      ]
    },
    {
      "cell_type": "code",
      "source": [],
      "metadata": {
        "id": "2r5cq0NzL_A6"
      },
      "execution_count": null,
      "outputs": []
    },
    {
      "cell_type": "markdown",
      "source": [
        "# Question 17\n",
        "\n",
        "Perform a groupby operation on ‘Element’.  What year has the highest sum of Stock Variation?\n",
        "\n",
        "\n",
        "\n",
        "\n"
      ],
      "metadata": {
        "id": "NvmbcPHaL_2y"
      }
    },
    {
      "cell_type": "code",
      "source": [
        "import pandas as pd\n",
        "\n",
        "\n",
        "# Select the 'Element' column and all the year columns\n",
        "selected_columns = df[['Element', 'Y2014', 'Y2015', 'Y2016', 'Y2017', 'Y2018']]\n",
        "\n",
        "# Group by 'Element' and calculate the sum of stock variation for each year\n",
        "stock_variation_by_year = selected_columns.groupby('Element')[['Y2014', 'Y2015', 'Y2016', 'Y2017', 'Y2018']].sum()\n",
        "\n",
        "# Find the year with the highest sum of stock variation\n",
        "highest_stock_variation_year = stock_variation_by_year.sum(axis=0).idxmax()\n",
        "\n",
        "# Print the year with the highest sum of stock variation\n",
        "print(f\"The year with the highest sum of Stock Variation is: {highest_stock_variation_year}\")\n"
      ],
      "metadata": {
        "colab": {
          "base_uri": "https://localhost:8080/"
        },
        "id": "9bc0svK0PtVG",
        "outputId": "f1492c5d-0fdc-4e3d-a2b3-4abafd1f6203"
      },
      "execution_count": 19,
      "outputs": [
        {
          "output_type": "stream",
          "name": "stdout",
          "text": [
            "The year with the highest sum of Stock Variation is: Y2018\n"
          ]
        }
      ]
    },
    {
      "cell_type": "code",
      "source": [
        "!apt-get install git\n"
      ],
      "metadata": {
        "colab": {
          "base_uri": "https://localhost:8080/"
        },
        "id": "r9e0swuZQgYy",
        "outputId": "a61443d0-3a70-492e-cc3b-481bfe9663b5"
      },
      "execution_count": 20,
      "outputs": [
        {
          "output_type": "stream",
          "name": "stdout",
          "text": [
            "Reading package lists... Done\n",
            "Building dependency tree... Done\n",
            "Reading state information... Done\n",
            "git is already the newest version (1:2.34.1-1ubuntu1.10).\n",
            "0 upgraded, 0 newly installed, 0 to remove and 18 not upgraded.\n"
          ]
        }
      ]
    },
    {
      "cell_type": "code",
      "source": [
        "!git config --global user.email \"eduvate360consults@gmail.com\"\n",
        "!git config --global user.name \"EMPYREALMART\"\n"
      ],
      "metadata": {
        "id": "Irmc0kUDTBjY"
      },
      "execution_count": 21,
      "outputs": []
    }
  ]
}